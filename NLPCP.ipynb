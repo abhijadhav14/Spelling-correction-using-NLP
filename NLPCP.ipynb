{
  "cells": [
    {
      "cell_type": "code",
      "execution_count": null,
      "metadata": {
        "id": "A6pPP9gg9gkw"
      },
      "outputs": [],
      "source": [
        "import re  # regular expression\n",
        "from collections import Counter\n",
        "import numpy as np\n",
        "import pandas as pd"
      ]
    },
    {
      "cell_type": "code",
      "execution_count": null,
      "metadata": {
        "id": "qAuArpSZ9mvj",
        "colab": {
          "base_uri": "https://localhost:8080/"
        },
        "outputId": "b2040564-5814-4273-d844-33b9167ac1f2"
      },
      "outputs": [
        {
          "output_type": "stream",
          "name": "stdout",
          "text": [
            "Drive already mounted at /content/drive; to attempt to forcibly remount, call drive.mount(\"/content/drive\", force_remount=True).\n"
          ]
        }
      ],
      "source": [
        "from google.colab import drive\n",
        "drive.mount('/content/drive')"
      ]
    },
    {
      "cell_type": "code",
      "execution_count": null,
      "metadata": {
        "id": "6XSExy34-br0"
      },
      "outputs": [],
      "source": [
        "w = [] #words\n",
        "with open('/content/drive/MyDrive/NLP/sample.txt','r',encoding=\"utf8\") as f:\n",
        "    file_name_data = f.read()\n",
        "    file_name_data = file_name_data.lower()\n",
        "    w = re.findall('\\w+', file_name_data)\n"
      ]
    },
    {
      "cell_type": "code",
      "execution_count": null,
      "metadata": {
        "id": "hMj2yafK-snk",
        "colab": {
          "base_uri": "https://localhost:8080/"
        },
        "outputId": "5cc242bd-8b13-4944-b2ee-17c1f70c2fc3"
      },
      "outputs": [
        {
          "output_type": "stream",
          "name": "stdout",
          "text": [
            "The first 10 words in our dictionary are: \n",
            "['a', 'ability', 'able', 'about', 'above', 'accept', 'according', 'account', 'across', 'act']\n",
            "The dictionary has 1001 words \n"
          ]
        }
      ],
      "source": [
        "v = set(w) #vocabulary\n",
        "print(f\"The first 10 words in our dictionary are: \\n{w[0:10]}\")\n",
        "print(f\"The dictionary has {len(v)} words \")"
      ]
    },
    {
      "cell_type": "code",
      "execution_count": null,
      "metadata": {
        "id": "i_6PHXgR-ynm"
      },
      "outputs": [],
      "source": [
        "def get_count(words):\n",
        "    word_count = {}\n",
        "    for word in words:\n",
        "        if word in word_count:\n",
        "            word_count[word] += 1\n",
        "        else:\n",
        "            word_count[word] = 1\n",
        "    return word_count"
      ]
    },
    {
      "cell_type": "code",
      "execution_count": null,
      "metadata": {
        "id": "Rc8v_2Y3-2Xu",
        "colab": {
          "base_uri": "https://localhost:8080/"
        },
        "outputId": "0efa5799-0a08-47ee-8b97-66206dc6123a"
      },
      "outputs": [
        {
          "output_type": "stream",
          "name": "stdout",
          "text": [
            "The dictionary has  1001 key values pairs\n"
          ]
        }
      ],
      "source": [
        "word_count = get_count(w)\n",
        "print(f\"The dictionary has  {len(word_count)} key values pairs\")"
      ]
    },
    {
      "cell_type": "code",
      "execution_count": null,
      "metadata": {
        "id": "B6b6-R87-5EY"
      },
      "outputs": [],
      "source": [
        "def get_probs(word_count_dict):\n",
        "    probs = {}\n",
        "    m = sum(word_count_dict.values())\n",
        "    for key in word_count_dict.keys():\n",
        "        probs[key] = word_count_dict[key] / m\n",
        "    return probs"
      ]
    },
    {
      "cell_type": "code",
      "execution_count": null,
      "metadata": {
        "id": "kuiuIF5p-82C"
      },
      "outputs": [],
      "source": [
        "def DeleteLetter(word):\n",
        "    delete_list = []\n",
        "    split_list = []\n",
        "    for i in range(len(word)):\n",
        "        split_list.append((word[0:i], word[i:]))\n",
        "    for a, b in split_list:\n",
        "        delete_list.append(a + b[1:])\n",
        "    return delete_list"
      ]
    },
    {
      "cell_type": "code",
      "execution_count": null,
      "metadata": {
        "id": "Y2rIuS59_Ba9"
      },
      "outputs": [],
      "source": [
        "delete_word_l = DeleteLetter(word=\"cans\")"
      ]
    },
    {
      "cell_type": "code",
      "execution_count": null,
      "metadata": {
        "id": "cNL0gwBd_E_k"
      },
      "outputs": [],
      "source": [
        "def SwitchLetter(word):\n",
        "    split_l = []\n",
        "    switch_l = []\n",
        "    for i in range(len(word)):\n",
        "        split_l.append((word[0:i], word[i:]))\n",
        "    switch_l = [a + b[1] + b[0] + b[2:] for a, b in split_l if len(b) >= 2]\n",
        "    return switch_l"
      ]
    },
    {
      "cell_type": "code",
      "execution_count": null,
      "metadata": {
        "id": "V_h7_0Un_Hdr"
      },
      "outputs": [],
      "source": [
        "switch_word_l = SwitchLetter(word=\"eta\")"
      ]
    },
    {
      "cell_type": "code",
      "execution_count": null,
      "metadata": {
        "id": "5fQpH2B8_Jav"
      },
      "outputs": [],
      "source": [
        "def replace_letter(word):\n",
        "    split_l = []\n",
        "    replace_list = []\n",
        "    for i in range(len(word)):\n",
        "        split_l.append((word[0:i], word[i:]))\n",
        "    alphabets = 'abcdefghijklmnopqrstuvwxyz'\n",
        "    replace_list = [a + l + (b[1:] if len(b) > 1 else '') for a, b in split_l if b for l in alphabets]\n",
        "    return replace_list"
      ]
    },
    {
      "cell_type": "code",
      "execution_count": null,
      "metadata": {
        "id": "8qn_Q5GJ_PDn"
      },
      "outputs": [],
      "source": [
        "replace_l = replace_letter(word='can')"
      ]
    },
    {
      "cell_type": "code",
      "execution_count": null,
      "metadata": {
        "id": "KieGuChf_Tv6"
      },
      "outputs": [],
      "source": [
        "def insert_letter(word):\n",
        "    split_l = []\n",
        "    insert_list = []\n",
        "    for i in range(len(word) + 1):\n",
        "        split_l.append((word[0:i], word[i:]))\n",
        "    letters = 'abcdefghijklmnopqrstuvwxyz'\n",
        "    insert_list = [a + l + b for a, b in split_l for l in letters]\n",
        "    # print(split_l)\n",
        "    return insert_list"
      ]
    },
    {
      "cell_type": "code",
      "execution_count": null,
      "metadata": {
        "id": "bt2Olz4M_Wl1"
      },
      "outputs": [],
      "source": [
        "def edit_one_letter(word, allow_switches=True):\n",
        "    edit_set1 = set()\n",
        "    edit_set1.update(DeleteLetter(word))\n",
        "    if allow_switches:\n",
        "        edit_set1.update(SwitchLetter(word))\n",
        "    edit_set1.update(replace_letter(word))\n",
        "    edit_set1.update(insert_letter(word))\n",
        "    return edit_set1"
      ]
    },
    {
      "cell_type": "code",
      "execution_count": null,
      "metadata": {
        "id": "UKuz8s45_bDw"
      },
      "outputs": [],
      "source": [
        "def edit_two_letters(word, allow_switches=True):\n",
        "    edit_set2 = set()\n",
        "    edit_one = edit_one_letter(word, allow_switches=allow_switches)\n",
        "    for w in edit_one:\n",
        "        if w:\n",
        "            edit_two = edit_one_letter(w, allow_switches=allow_switches)\n",
        "            edit_set2.update(edit_two)\n",
        "    return edit_set2"
      ]
    },
    {
      "cell_type": "code",
      "execution_count": null,
      "metadata": {
        "id": "bNluyfYc_f2k"
      },
      "outputs": [],
      "source": [
        "def get_corrections(word, probs, vocab, n=2):\n",
        "    suggested_word = []\n",
        "    best_suggestion = []\n",
        "    suggested_word = list(\n",
        "        (word in vocab and word) or edit_one_letter(word).intersection(vocab) or edit_two_letters(word).intersection(\n",
        "            vocab))\n",
        "    best_suggestion = [[s, probs[s]] for s in list(reversed(suggested_word))]\n",
        "    return best_suggestion"
      ]
    },
    {
      "cell_type": "code",
      "execution_count": null,
      "metadata": {
        "id": "5h17Ji_9_j6U",
        "colab": {
          "base_uri": "https://localhost:8080/"
        },
        "outputId": "804cf615-84a0-4cf7-a9ac-e2e2155ad773"
      },
      "outputs": [
        {
          "output_type": "stream",
          "name": "stdout",
          "text": [
            "Enter any word:cet\n",
            "Word 1: yet, Probability: 98.4%\n",
            "Word 2: get, Probability: 98.4%\n",
            "Word 3: set, Probability: 98.4%\n",
            "Word 4: cut, Probability: 98.4%\n",
            "Word 5: let, Probability: 98.4%\n"
          ]
        }
      ],
      "source": [
        "my_word = input(\"Enter any word:\")\n",
        "probs = get_probs(word_count)\n",
        "\n",
        "tmp_corrections = get_corrections(my_word, probs, v, 2)\n",
        "\n",
        "for i, word_prob in enumerate(tmp_corrections):\n",
        "    prob_percent = round(word_prob[1] * 100, 2)\n",
        "    print(f\"Word {i+1}: {word_prob[0]}, Probability: {prob_percent * 100}%\")"
      ]
    },
    {
      "cell_type": "code",
      "execution_count": null,
      "metadata": {
        "id": "9NDb32Tg_zMY"
      },
      "outputs": [],
      "source": []
    }
  ],
  "metadata": {
    "colab": {
      "provenance": [],
      "mount_file_id": "1NhuGJgCS-Nz_PBKJfSDVfChtbEt5dX8q",
      "authorship_tag": "ABX9TyNdN3MM0KXs0xfWy9YlF/vF"
    },
    "kernelspec": {
      "display_name": "Python 3",
      "name": "python3"
    },
    "language_info": {
      "name": "python"
    }
  },
  "nbformat": 4,
  "nbformat_minor": 0
}